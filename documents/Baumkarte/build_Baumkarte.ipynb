{
 "cells": [
  {
   "cell_type": "code",
   "execution_count": 3,
   "id": "c76415e0-7a6d-4f4d-bf75-67e373f3812d",
   "metadata": {},
   "outputs": [
    {
     "name": "stdout",
     "output_type": "stream",
     "text": [
      "Karte gespeichert als 'baumkarte.html'\n"
     ]
    }
   ],
   "source": [
    "import pandas as pd\n",
    "import folium\n",
    "import math\n",
    "\n",
    "# ---- CSV laden ----\n",
    "df = pd.read_csv(\"Baum999.csv\", sep=\";\", encoding=\"utf-8\")\n",
    "\n",
    "# ---- EPSG:3857 -> WGS84 Umrechnung ----\n",
    "R = 6378137.0\n",
    "def mercator_to_wgs84(x, y):\n",
    "    lon = (x / R) * (180 / math.pi)\n",
    "    lat = (2 * math.atan(math.exp(y / R)) - math.pi/2) * (180 / math.pi)\n",
    "    return lon, lat\n",
    "\n",
    "df[\"lon\"], df[\"lat\"] = zip(*df.apply(lambda row: mercator_to_wgs84(row[\"x\"], row[\"y\"]), axis=1))\n",
    "\n",
    "# ---- Parametrische Styles: Farben anhand \"Kategorie\" ----\n",
    "styles = {\n",
    "    \"rot\":   {\"color\": \"red\",   \"fillColor\": \"red\",   \"radius\": 4},\n",
    "    \"gruen\": {\"color\": \"green\", \"fillColor\": \"green\", \"radius\": 4},\n",
    "    \"grün\":  {\"color\": \"green\", \"fillColor\": \"green\", \"radius\": 4},\n",
    "    \"blau\":  {\"color\": \"blue\",  \"fillColor\": \"blue\",  \"radius\": 4},\n",
    "}\n",
    "\n",
    "# ---- Karte erstellen ----\n",
    "m = folium.Map(location=[52.51, 13.4], zoom_start=11, control_scale=True)\n",
    "\n",
    "# ---- Marker mit Tooltip einfügen ----\n",
    "for _, row in df.iterrows():\n",
    "    kat = row[\"Kategorie\"].strip().lower()  # \"rot\", \"gruen\", \"blau\"\n",
    "    if kat in styles:\n",
    "        s = styles[kat]\n",
    "    else:\n",
    "        s = {\"color\": \"gray\", \"fillColor\": \"gray\", \"radius\": 6}  # fallback\n",
    "\n",
    "    info = f\"\"\"\n",
    "    <b>{row['Objektname']}</b><br>\n",
    "    {row['Bezirk']}<br>\n",
    "    {row['Art Botanisch']}\n",
    "    \"\"\"\n",
    "    folium.CircleMarker(\n",
    "        location=[row[\"lat\"], row[\"lon\"]],\n",
    "        radius=s[\"radius\"],\n",
    "        color=s[\"color\"],\n",
    "        fill=True,\n",
    "        fill_color=s[\"fillColor\"],\n",
    "        fill_opacity=1.0,\n",
    "        tooltip=info\n",
    "    ).add_to(m)\n",
    "\n",
    "# Karte an alle Punkte anpassen\n",
    "m.fit_bounds(m.get_bounds())\n",
    "\n",
    "# Fester Name um nicht im Versionskontrollsystem zu spammen\n",
    "m.get_root().html.add_child(folium.Element('<div id=\"mapid\" style=\"width:100%; height:100%;\"></div>'))\n",
    "m.get_name = lambda: \"mapid\"\n",
    "\n",
    "# ---- Karte speichern ----\n",
    "m.save(\"baumkarte.html\")\n",
    "print(\"Karte gespeichert als 'baumkarte.html'\")\n"
   ]
  },
  {
   "cell_type": "code",
   "execution_count": null,
   "id": "5451d373-9ee7-4664-a19d-87e39911fcd2",
   "metadata": {},
   "outputs": [],
   "source": []
  }
 ],
 "metadata": {
  "kernelspec": {
   "display_name": "kartierung",
   "language": "python",
   "name": "kartierung"
  },
  "language_info": {
   "codemirror_mode": {
    "name": "ipython",
    "version": 3
   },
   "file_extension": ".py",
   "mimetype": "text/x-python",
   "name": "python",
   "nbconvert_exporter": "python",
   "pygments_lexer": "ipython3",
   "version": "3.12.7"
  }
 },
 "nbformat": 4,
 "nbformat_minor": 5
}
